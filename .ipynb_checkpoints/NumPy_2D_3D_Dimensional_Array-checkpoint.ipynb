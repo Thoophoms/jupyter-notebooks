{
 "cells": [
  {
   "cell_type": "code",
   "execution_count": 57,
   "id": "0540d4fd-f9f9-42cb-b9cf-0057ca4c79ab",
   "metadata": {},
   "outputs": [
    {
     "name": "stdout",
     "output_type": "stream",
     "text": [
      "this is a 2D: (2, 3) means that there are 2 rows and 3 columns\n",
      "x:\n",
      "[[1 2 3]\n",
      " [4 5 6]]\n"
     ]
    }
   ],
   "source": [
    "# NumPy --> ndarray (n-dimensional) --> 2D\n",
    "\n",
    "import numpy as np\n",
    "\n",
    "x = np.array([[1, 2, 3], [4, 5, 6]])\n",
    "print(f\"this is a 2D: {x.shape} means that there are 2 rows and 3 columns\")\n",
    "print(\"x:\\n{}\".format(x))"
   ]
  },
  {
   "cell_type": "code",
   "execution_count": 59,
   "id": "710b1061-d6d7-40e7-95eb-e662b77141c3",
   "metadata": {},
   "outputs": [
    {
     "name": "stdout",
     "output_type": "stream",
     "text": [
      "this is a 2D: (3, 3) means that there are 3 rows and 3 columns\n",
      "y:\n",
      "[[1 2 3]\n",
      " [4 5 6]\n",
      " [7 8 9]]\n"
     ]
    }
   ],
   "source": [
    "# NumPy --> ndarray (n-dimensional) --> 2D\n",
    "\n",
    "y = np.array([[1, 2, 3], [4, 5, 6,], [7, 8, 9]])\n",
    "print(f\"this is a 2D: {y.shape} means that there are 3 rows and 3 columns\")\n",
    "print(\"y:\\n{}\".format(y))"
   ]
  },
  {
   "cell_type": "code",
   "execution_count": 61,
   "id": "cb27aaf7-1c04-49ab-bf22-3d746fa32022",
   "metadata": {},
   "outputs": [
    {
     "name": "stdout",
     "output_type": "stream",
     "text": [
      "this is a 3D: (2, 2, 2) means that there are 2 blocks or 2 depth layers\n",
      "So, 2 blocks, each 2x2 matrix\n",
      "Block 1:\n",
      "[1, 2]\n",
      "[3, 4]\n",
      "Block 2:\n",
      "[5, 6]\n",
      "[7, 8]\n",
      "\n",
      " so,\n",
      "z:\n",
      "[[[1 2]\n",
      "  [3 4]]\n",
      "\n",
      " [[5 6]\n",
      "  [7 8]]]\n"
     ]
    }
   ],
   "source": [
    "# NumPy --> ndarray (n-dimensional) --> 3D\n",
    "z = np.array([\n",
    "    [[1, 2], [3, 4]],\n",
    "    [[5, 6], [7, 8]]\n",
    "])\n",
    "print(f\"this is a 3D: {z.shape} means that there are 2 blocks or 2 depth layers\")\n",
    "print(\"So, 2 blocks, each 2x2 matrix\")\n",
    "print(f\"Block 1:\\n[1, 2]\\n[3, 4]\")\n",
    "print(f\"Block 2:\\n[5, 6]\\n[7, 8]\\n\\n so,\")\n",
    "print(\"z:\\n{}\".format(z))"
   ]
  },
  {
   "cell_type": "code",
   "execution_count": 63,
   "id": "5d573a56-8f50-48d8-89f8-7cb9f030bd53",
   "metadata": {},
   "outputs": [
    {
     "name": "stdout",
     "output_type": "stream",
     "text": [
      "this is a 3D: (3, 2, 2) means that there are 3 blocks or 3 depth layers\n",
      "So, 3 blocks, each 2x2 matrix\n",
      "Block 1:\n",
      "[1, 2]\n",
      "[3, 4]\n",
      "Block 2:\n",
      "[5, 6]\n",
      "[7, 8]\n",
      "Block 3:\n",
      "[9, 0]\n",
      "[0, 1]\n",
      "\n",
      " so,\n",
      "z:\n",
      "[[[1 2]\n",
      "  [3 4]]\n",
      "\n",
      " [[5 6]\n",
      "  [7 8]]\n",
      "\n",
      " [[9 0]\n",
      "  [0 1]]]\n"
     ]
    }
   ],
   "source": [
    "# NumPy --> ndarray (n-dimensional) --> 3D\n",
    "w = np.array([\n",
    "    [[1, 2], [3, 4]],\n",
    "    [[5, 6], [7, 8]],\n",
    "    [[9, 0], [0, 1]],\n",
    "])\n",
    "print(f\"this is a 3D: {w.shape} means that there are 3 blocks or 3 depth layers\")\n",
    "print(\"So, 3 blocks, each 2x2 matrix\")\n",
    "print(f\"Block 1:\\n[1, 2]\\n[3, 4]\")\n",
    "print(f\"Block 2:\\n[5, 6]\\n[7, 8]\")\n",
    "print(f\"Block 3:\\n[9, 0]\\n[0, 1]\\n\\n so,\")\n",
    "print(\"z:\\n{}\".format(w))"
   ]
  },
  {
   "cell_type": "code",
   "execution_count": null,
   "id": "a9742918-5f9b-4554-a6d6-279fed9e661f",
   "metadata": {},
   "outputs": [],
   "source": []
  }
 ],
 "metadata": {
  "kernelspec": {
   "display_name": "Python [conda env:base] *",
   "language": "python",
   "name": "conda-base-py"
  },
  "language_info": {
   "codemirror_mode": {
    "name": "ipython",
    "version": 3
   },
   "file_extension": ".py",
   "mimetype": "text/x-python",
   "name": "python",
   "nbconvert_exporter": "python",
   "pygments_lexer": "ipython3",
   "version": "3.12.7"
  }
 },
 "nbformat": 4,
 "nbformat_minor": 5
}
