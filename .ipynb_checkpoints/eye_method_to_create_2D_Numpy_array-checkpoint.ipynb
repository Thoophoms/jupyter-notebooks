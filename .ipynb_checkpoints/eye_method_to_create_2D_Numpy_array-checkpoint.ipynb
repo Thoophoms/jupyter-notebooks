{
 "cells": [
  {
   "cell_type": "code",
   "execution_count": 63,
   "id": "4d4c1711-ad10-4c3a-95f0-e4537c5c6f42",
   "metadata": {},
   "outputs": [
    {
     "name": "stdout",
     "output_type": "stream",
     "text": [
      "Numpy array:\n",
      "[[1. 0. 0. 0.]\n",
      " [0. 1. 0. 0.]\n",
      " [0. 0. 1. 0.]\n",
      " [0. 0. 0. 1.]]\n",
      "\n",
      "Numpy array + shift 1 column to the right:\n",
      "[[0. 1. 0. 0.]\n",
      " [0. 0. 1. 0.]\n",
      " [0. 0. 0. 1.]\n",
      " [0. 0. 0. 0.]]\n"
     ]
    }
   ],
   "source": [
    "import numpy as np\n",
    "from scipy import sparse\n",
    "\n",
    "# Create a 2D Numpy array with a diagonal of ones, and zeros everywhere eles with method eye\n",
    "eye = np.eye(4)\n",
    "print(\"Numpy array:\\n{}\".format(eye))\n",
    "\n",
    "\n",
    "# Create a 2D Numpy array with a diagonal of ones, and zeros everywhere eles with method eye with k = number of shifting\n",
    "# Shift k = 1 means that shift 1 column to the right \n",
    "eye1 = np.eye(4, k=1)\n",
    "print(\"\\nNumpy array + shift 1 column to the right:\\n{}\".format(eye1))"
   ]
  },
  {
   "cell_type": "code",
   "execution_count": 65,
   "id": "13f80855-60a3-46c3-b840-143d01896ab3",
   "metadata": {},
   "outputs": [
    {
     "name": "stdout",
     "output_type": "stream",
     "text": [
      "The reverse eye is:\n",
      "[[0. 0. 0. 1.]\n",
      " [0. 0. 1. 0.]\n",
      " [0. 1. 0. 0.]\n",
      " [1. 0. 0. 0.]]\n",
      "\n",
      "The reverse eye with shift k = 1 means that shift 1 column to the right is:\n",
      "[[0. 0. 1. 0.]\n",
      " [0. 1. 0. 0.]\n",
      " [1. 0. 0. 0.]\n",
      " [0. 0. 0. 0.]]\n",
      "\n",
      "First: Create a 3x3 matrix of zeros\n",
      "[[0. 0. 0.]\n",
      " [0. 0. 0.]\n",
      " [0. 0. 0.]]\n",
      "\n",
      "Then mannually fill diagonal with 1:\n",
      "[[1. 0. 0.]\n",
      " [0. 1. 0.]\n",
      " [0. 0. 1.]]\n",
      "\n",
      "Lastly, Flip left-to-right\n",
      "[[0. 0. 1.]\n",
      " [0. 1. 0.]\n",
      " [1. 0. 0.]]\n"
     ]
    }
   ],
   "source": [
    "# Create a reverse identity matrix (also called anti-diagonal matrix)\n",
    "\n",
    "# 1. Use method np.fliplr() to flip the identity matrix left-to-right\n",
    "reverse_eye = np.fliplr(np.eye(4))\n",
    "print(f\"The reverse eye is:\\n{reverse_eye}\\n\")\n",
    "\n",
    "\n",
    "reverse_eye1 = np.fliplr(np.eye(4, k=1))\n",
    "print(f\"The reverse eye with shift k = 1 means that shift 1 column to the right is:\\n{reverse_eye1}\\n\")\n",
    "\n",
    "\n",
    "# Method 2. Use slicing place to place 1s manually\n",
    "manually_replace_1 = np.zeros((3,3)) # This will create a 3x3 matrix of zeros\n",
    "print(f\"First: Create a 3x3 matrix of zeros\\n{manually_replace_1}\\n\")\n",
    "\n",
    "np.fill_diagonal(manually_replace_1, 1)\n",
    "print(\"Then mannually fill diagonal with 1:\")\n",
    "print(f\"{manually_replace_1}\\n\")\n",
    "\n",
    "\n",
    "print(\"Lastly, Flip left-to-right\")\n",
    "print(np.fliplr(manually_replace_1))\n"
   ]
  }
 ],
 "metadata": {
  "kernelspec": {
   "display_name": "Python [conda env:base] *",
   "language": "python",
   "name": "conda-base-py"
  },
  "language_info": {
   "codemirror_mode": {
    "name": "ipython",
    "version": 3
   },
   "file_extension": ".py",
   "mimetype": "text/x-python",
   "name": "python",
   "nbconvert_exporter": "python",
   "pygments_lexer": "ipython3",
   "version": "3.12.7"
  }
 },
 "nbformat": 4,
 "nbformat_minor": 5
}
