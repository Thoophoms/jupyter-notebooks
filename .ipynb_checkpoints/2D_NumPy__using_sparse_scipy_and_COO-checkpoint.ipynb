{
 "cells": [
  {
   "cell_type": "code",
   "execution_count": 68,
   "id": "f17341bb-72cb-438b-b2df-128375670fd6",
   "metadata": {},
   "outputs": [
    {
     "name": "stdout",
     "output_type": "stream",
     "text": [
      "Numpy array:\n",
      "[[1. 0. 0. 0.]\n",
      " [0. 1. 0. 0.]\n",
      " [0. 0. 1. 0.]\n",
      " [0. 0. 0. 1.]]\n",
      "\n",
      "SciPy sparse CSR matrix:\n",
      "  (0, 0)\t1.0\n",
      "  (1, 1)\t1.0\n",
      "  (2, 2)\t1.0\n",
      "  (3, 3)\t1.0\n",
      "This means that at row x, column y, the value is z\n",
      "At row 0, column 0, the value is 1.0\n",
      "At row 1, column 1, the value is 1.0\n",
      "At row 2, column 2, the value is 1.0\n",
      "At row 3, column 3, the value is 1.0\n"
     ]
    }
   ],
   "source": [
    "# Create a 2D Numpy array with a diagonal of ones, and zeros everywhere eles with method eye\n",
    "\n",
    "import numpy as np\n",
    "from scipy import sparse\n",
    "\n",
    "eye = np.eye(4)\n",
    "print(\"Numpy array:\\n{}\".format(eye))\n",
    "\n",
    "\n",
    "# Convert the NumPy array to a Scipy sparse matrix in CSR format\n",
    "# Only non-zero entries are stored\n",
    "sparse_matrix = sparse.csr_matrix(eye)\n",
    "print(\"\\nSciPy sparse CSR matrix:\\n{}\".format(sparse_matrix))\n",
    "# print(sparse_matrix)\n",
    "\n",
    "print(\"This means that at row x, column y, the value is z\")\n",
    "print(\"At row 0, column 0, the value is 1.0\")\n",
    "print(\"At row 1, column 1, the value is 1.0\")\n",
    "print(\"At row 2, column 2, the value is 1.0\")\n",
    "print(\"At row 3, column 3, the value is 1.0\")\n"
   ]
  },
  {
   "cell_type": "code",
   "execution_count": 70,
   "id": "c9a23ff4-da37-4701-a267-acdfd8692fbf",
   "metadata": {},
   "outputs": [
    {
     "name": "stdout",
     "output_type": "stream",
     "text": [
      "First: Create 1's because we are building 4x4 identity matrix which has 4 non-zero elements(on the diagonal):\n",
      "[1. 1. 1. 1.]\n",
      "\n",
      "Second: Create the row indices. So, Each 1.0 will go in its corresponding row: 0, 1, 2, 3\n",
      "[0 1 2 3]\n",
      "\n",
      "Third: Create the column indices. So, Each 1.0 will go in its corresponding column: 0, 1, 2, 3\n",
      "[0 1 2 3]\n",
      "\n",
      "Put 1.0 at (0, 0)\n",
      "Put 1.0 at (1, 1)\n",
      "Put 1.0 at (2, 2)\n",
      "Put 1.0 at (3, 3)\n",
      "\n",
      "So, COO representation:\n",
      "  (0, 0)\t1.0\n",
      "  (1, 1)\t1.0\n",
      "  (2, 2)\t1.0\n",
      "  (3, 3)\t1.0\n"
     ]
    }
   ],
   "source": [
    "# Create sparse representaions using COO format\n",
    "\n",
    "data = np.ones(4)\n",
    "print(\"First: Create 1's because we are building 4x4 identity matrix which has 4 non-zero elements(on the diagonal):\\n{}\".format(data))\n",
    "\n",
    "row_indices = np.arange(4)\n",
    "print(\"\\nSecond: Create the row indices. So, Each 1.0 will go in its corresponding row: 0, 1, 2, 3\\n{}\".format(row_indices))\n",
    "\n",
    "col_indices = np.arange(4)\n",
    "print(\"\\nThird: Create the column indices. So, Each 1.0 will go in its corresponding column: 0, 1, 2, 3\\n{}\".format(col_indices))\n",
    "\n",
    "eye_coo = sparse.coo_matrix((data, (row_indices, col_indices)))\n",
    "print(\"\\nPut 1.0 at (0, 0)\")\n",
    "print(\"Put 1.0 at (1, 1)\")\n",
    "print(\"Put 1.0 at (2, 2)\")\n",
    "print(\"Put 1.0 at (3, 3)\")\n",
    "print(\"\\nSo, COO representation:\\n{}\".format(eye_coo))"
   ]
  }
 ],
 "metadata": {
  "kernelspec": {
   "display_name": "Python [conda env:base] *",
   "language": "python",
   "name": "conda-base-py"
  },
  "language_info": {
   "codemirror_mode": {
    "name": "ipython",
    "version": 3
   },
   "file_extension": ".py",
   "mimetype": "text/x-python",
   "name": "python",
   "nbconvert_exporter": "python",
   "pygments_lexer": "ipython3",
   "version": "3.12.7"
  }
 },
 "nbformat": 4,
 "nbformat_minor": 5
}
