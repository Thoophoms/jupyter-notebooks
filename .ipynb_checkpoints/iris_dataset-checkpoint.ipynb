{
 "cells": [
  {
   "cell_type": "code",
   "execution_count": 5,
   "id": "2e7ccebc-4ee0-4c65-945a-5764609f5945",
   "metadata": {},
   "outputs": [
    {
     "name": "stdout",
     "output_type": "stream",
     "text": [
      "Keys of iris_dataset: \n",
      "dict_keys(['data', 'target', 'frame', 'target_names', 'DESCR', 'feature_names', 'filename', 'data_module'])\n"
     ]
    }
   ],
   "source": [
    "from sklearn.datasets import load_iris\n",
    "iris_dataset = load_iris()\n",
    "\n",
    "# Print keys of iris_dataset\n",
    "print(\"Keys of iris_dataset: \\n{}\".format(iris_dataset.keys()))"
   ]
  },
  {
   "cell_type": "code",
   "execution_count": 23,
   "id": "a91d4806-bb8b-4730-9f1b-cb63e078de61",
   "metadata": {},
   "outputs": [
    {
     "name": "stdout",
     "output_type": "stream",
     "text": [
      ".. _iris_dataset:\n",
      "\n",
      "Iris plants dataset\n",
      "--------------------\n",
      "\n",
      "**Data Set Characteristics:**\n",
      "\n",
      ":Number of Instances: 150 (50 in each of three classes)\n",
      ":Number of Attributes: 4 numeric, predictive \n",
      "...\n"
     ]
    }
   ],
   "source": [
    "# Print Description - it shows only the first 193 characters of the dataset description, followed by \"...\"\n",
    "print(iris_dataset['DESCR'][:193] + \"\\n...\")"
   ]
  },
  {
   "cell_type": "code",
   "execution_count": 27,
   "id": "39e708b5-30b8-4452-b852-9258b9ffac62",
   "metadata": {},
   "outputs": [
    {
     "name": "stdout",
     "output_type": "stream",
     "text": [
      "Target_names: ['setosa' 'versicolor' 'virginica']\n"
     ]
    }
   ],
   "source": [
    "# Print the 'target_names' - array strings\n",
    "print(\"Target_names: {}\".format(iris_dataset['target_names']))"
   ]
  },
  {
   "cell_type": "code",
   "execution_count": 35,
   "id": "0cb7740b-03b3-4994-bb19-af1600178c1d",
   "metadata": {},
   "outputs": [
    {
     "name": "stdout",
     "output_type": "stream",
     "text": [
      "feature_names: ['sepal length (cm)', 'sepal width (cm)', 'petal length (cm)', 'petal width (cm)']\n"
     ]
    }
   ],
   "source": [
    "# Print the 'features_names - list of strings\n",
    "print(\"feature_names: {}\".format(iris_dataset['feature_names']))"
   ]
  },
  {
   "cell_type": "code",
   "execution_count": 63,
   "id": "722cea07-001c-4f77-8a0b-6f5fa9839af2",
   "metadata": {},
   "outputs": [
    {
     "name": "stdout",
     "output_type": "stream",
     "text": [
      "Type of data: <class 'numpy.ndarray'>\n",
      "The data itself is contained in the target and data fields.\n",
      "The numeric mesurements of sepal length, sepal width, petal length, petal width in a Numpy array\n"
     ]
    }
   ],
   "source": [
    "# Print the 'data'\n",
    "print(\"Type of data: {}\".format(type(iris_dataset['data'])))\n",
    "\n",
    "print(\"The data itself is contained in the target and data fields.\")\n",
    "print(\"The numeric mesurements of sepal length, sepal width, petal length, petal width in a Numpy array\")"
   ]
  },
  {
   "cell_type": "code",
   "execution_count": 67,
   "id": "95a6742c-8879-4cfd-adf6-26f16a95b552",
   "metadata": {},
   "outputs": [
    {
     "name": "stdout",
     "output_type": "stream",
     "text": [
      "The rows in the data array correspond to flowers, \n",
      "while the columns represent the four measurements that were taken for each flower\n",
      "Shape of data: (150, 4)\n",
      "\n",
      "Where the value of 150 is called 'samples' or 'individual items' in a rows\n",
      "and the value of 4 is called 'features' in each column\n",
      "\n",
      "The shape of the data is 'samples' x 'features' = value\n",
      "The data has shape (150, 4) or 600 total values in the array\n"
     ]
    }
   ],
   "source": [
    "print(\"\"\"The rows in the data array correspond to flowers, \n",
    "while the columns represent the four measurements that were taken for each flower\"\"\")\n",
    "print(\"Shape of data: {}\".format(iris_dataset['data'].shape))\n",
    "value = (iris_dataset['data'].shape)\n",
    "\n",
    "print(\"\\nWhere the value of {} is called 'samples' or 'individual items' in a rows\".format(value[0]))\n",
    "print(\"and the value of {} is called 'features' in each column\".format(value[1]))\n",
    "\n",
    "print(\"\\nThe shape of the data is 'samples' x 'features' = value\")\n",
    "shape = value[0] * value[1]\n",
    "print(f\"The data has shape ({value[0]}, {value[1]}) or {shape} total values in the array\")\n"
   ]
  },
  {
   "cell_type": "code",
   "execution_count": 69,
   "id": "ada6c2af-a0cc-4ae8-aad3-de3f82cd6292",
   "metadata": {},
   "outputs": [
    {
     "name": "stdout",
     "output_type": "stream",
     "text": [
      "First 5 columns of data:\n",
      "[[5.1 3.5 1.4 0.2]\n",
      " [4.9 3.  1.4 0.2]\n",
      " [4.7 3.2 1.3 0.2]\n",
      " [4.6 3.1 1.5 0.2]\n",
      " [5.  3.6 1.4 0.2]]\n"
     ]
    }
   ],
   "source": [
    "print(\"First 5 columns of data:\\n{}\".format(iris_dataset['data'][:5]))"
   ]
  },
  {
   "cell_type": "code",
   "execution_count": 71,
   "id": "b725874c-633e-4c09-a6d4-1f2f61700751",
   "metadata": {},
   "outputs": [
    {
     "name": "stdout",
     "output_type": "stream",
     "text": [
      "Type of target: <class 'numpy.ndarray'>\n"
     ]
    }
   ],
   "source": [
    "print(\"Type of target: {}\".format(type(iris_dataset['target'])))"
   ]
  },
  {
   "cell_type": "code",
   "execution_count": 83,
   "id": "3febe441-7936-44e6-b03f-f68e322212f5",
   "metadata": {},
   "outputs": [
    {
     "name": "stdout",
     "output_type": "stream",
     "text": [
      "The 'target' has been stored the species of each flowers that were measured in the form of array in Numpy\n",
      "Target is a one dimensional array, with one entry per flower\n",
      "Shape of target: (150,)\n"
     ]
    }
   ],
   "source": [
    "print(\"The 'target' has been stored the species of each flowers that were measured in the form of array in Numpy\")\n",
    "print(\"Target is a one dimensional array, with one entry per flower\")\n",
    "\n",
    "print(\"Shape of target: {}\".format(iris_dataset['target'].shape))"
   ]
  },
  {
   "cell_type": "code",
   "execution_count": 89,
   "id": "24818986-7b31-4c09-805f-9c422f4e2ac3",
   "metadata": {},
   "outputs": [
    {
     "name": "stdout",
     "output_type": "stream",
     "text": [
      "Target_names: ['setosa' 'versicolor' 'virginica']\n",
      "Meaning that\n",
      "            0. Setosa\n",
      "            1. Versicolar\n",
      "            2. Virginica\n",
      "Target:\n",
      "[0 0 0 0 0 0 0 0 0 0 0 0 0 0 0 0 0 0 0 0 0 0 0 0 0 0 0 0 0 0 0 0 0 0 0 0 0\n",
      " 0 0 0 0 0 0 0 0 0 0 0 0 0 1 1 1 1 1 1 1 1 1 1 1 1 1 1 1 1 1 1 1 1 1 1 1 1\n",
      " 1 1 1 1 1 1 1 1 1 1 1 1 1 1 1 1 1 1 1 1 1 1 1 1 1 1 2 2 2 2 2 2 2 2 2 2 2\n",
      " 2 2 2 2 2 2 2 2 2 2 2 2 2 2 2 2 2 2 2 2 2 2 2 2 2 2 2 2 2 2 2 2 2 2 2 2 2\n",
      " 2 2]\n"
     ]
    }
   ],
   "source": [
    "# The special are encoded as integers from 0 to 2:\n",
    "print(\"Target_names: {}\".format(iris_dataset['target_names']))\n",
    "print(\"\"\"Meaning that\n",
    "            0. Setosa\n",
    "            1. Versicolar\n",
    "            2. Virginica\"\"\")\n",
    "print(\"Target:\\n{}\".format(iris_dataset['target']))"
   ]
  },
  {
   "cell_type": "code",
   "execution_count": 101,
   "id": "ef441c0e-fdbf-4979-912a-8c272a34665a",
   "metadata": {},
   "outputs": [
    {
     "name": "stdout",
     "output_type": "stream",
     "text": [
      "X_train shape: (112, 4)\n",
      "y_train shape: (112,)\n"
     ]
    }
   ],
   "source": [
    "# Spliting data by train_test_split\n",
    "from sklearn.model_selection import train_test_split\n",
    "X_train, X_test, y_train, y_test = train_test_split(iris_dataset['data'], iris_dataset['target'], random_state = 0)\n",
    "\n",
    "print(\"X_train shape: {}\".format(X_train.shape))\n",
    "print(\"y_train shape: {}\".format(y_train.shape))"
   ]
  },
  {
   "cell_type": "code",
   "execution_count": 103,
   "id": "17eb0bfc-3a2c-485c-ae3d-e03251520f97",
   "metadata": {},
   "outputs": [
    {
     "name": "stdout",
     "output_type": "stream",
     "text": [
      "X_test shape: (38, 4)\n",
      "y_test shape: (38,)\n"
     ]
    }
   ],
   "source": [
    "print(\"X_test shape: {}\".format(X_test.shape))\n",
    "print(\"y_test shape: {}\".format(y_test.shape))"
   ]
  },
  {
   "cell_type": "code",
   "execution_count": 117,
   "id": "a2cc6b8a-bad2-4da5-a405-b0085e89010f",
   "metadata": {},
   "outputs": [
    {
     "ename": "AttributeError",
     "evalue": "module 'pandas' has no attribute 'scatter_matrix'",
     "output_type": "error",
     "traceback": [
      "\u001b[0;31m---------------------------------------------------------------------------\u001b[0m",
      "\u001b[0;31mAttributeError\u001b[0m                            Traceback (most recent call last)",
      "Cell \u001b[0;32mIn[117], line 10\u001b[0m\n\u001b[1;32m      7\u001b[0m iris_dataframe \u001b[38;5;241m=\u001b[39m pd\u001b[38;5;241m.\u001b[39mDataFrame(X_train, columns\u001b[38;5;241m=\u001b[39miris_dataset\u001b[38;5;241m.\u001b[39mfeature_names)\n\u001b[1;32m      9\u001b[0m \u001b[38;5;66;03m# create a scatter matrix from the dataframe, color by y_train\u001b[39;00m\n\u001b[0;32m---> 10\u001b[0m grr \u001b[38;5;241m=\u001b[39m pd\u001b[38;5;241m.\u001b[39mscatter_matrix(iris_dataframe, c\u001b[38;5;241m=\u001b[39my_train, figsize\u001b[38;5;241m=\u001b[39m(\u001b[38;5;241m15\u001b[39m, \u001b[38;5;241m15\u001b[39m), marker\u001b[38;5;241m=\u001b[39m\u001b[38;5;124m'\u001b[39m\u001b[38;5;124mo\u001b[39m\u001b[38;5;124m'\u001b[39m, hist_kwrds\u001b[38;5;241m=\u001b[39m{\u001b[38;5;124m'\u001b[39m\u001b[38;5;124mbins\u001b[39m\u001b[38;5;124m'\u001b[39m: \u001b[38;5;241m20\u001b[39m}, s\u001b[38;5;241m=\u001b[39m\u001b[38;5;241m60\u001b[39m, alpha\u001b[38;5;241m=\u001b[39m\u001b[38;5;241m.8\u001b[39m, cmap\u001b[38;5;241m=\u001b[39mmglearn\u001b[38;5;241m.\u001b[39mcm3)\n",
      "\u001b[0;31mAttributeError\u001b[0m: module 'pandas' has no attribute 'scatter_matrix'"
     ]
    }
   ],
   "source": [
    "import pandas as pd\n",
    "from pandas.plotting import scatter_matrix\n",
    "# scatter_matrix to create pair_plot\n",
    "\n",
    "# create dataframe from data in X_train\n",
    "# label the columns using the strings in iris_dataset.feature_names\n",
    "iris_dataframe = pd.DataFrame(X_train, columns=iris_dataset.feature_names)\n",
    "\n",
    "# create a scatter matrix from the dataframe, color by y_train\n",
    "grr = pd.scatter_matrix(iris_dataframe, c=y_train, figsize=(15, 15), marker='o', hist_kwrds={'bins': 20}, s=60, alpha=.8, cmap=mglearn.cm3)"
   ]
  },
  {
   "cell_type": "code",
   "execution_count": null,
   "id": "f473e280-19f9-4153-939f-d8d41f3391ef",
   "metadata": {},
   "outputs": [],
   "source": []
  }
 ],
 "metadata": {
  "kernelspec": {
   "display_name": "Python [conda env:base] *",
   "language": "python",
   "name": "conda-base-py"
  },
  "language_info": {
   "codemirror_mode": {
    "name": "ipython",
    "version": 3
   },
   "file_extension": ".py",
   "mimetype": "text/x-python",
   "name": "python",
   "nbconvert_exporter": "python",
   "pygments_lexer": "ipython3",
   "version": "3.12.7"
  }
 },
 "nbformat": 4,
 "nbformat_minor": 5
}
