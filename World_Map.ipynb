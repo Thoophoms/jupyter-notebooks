{
 "cells": [
  {
   "cell_type": "code",
   "execution_count": 29,
   "id": "00cb9395-a2df-4db3-aeb0-50bf55f4687d",
   "metadata": {},
   "outputs": [
    {
     "ename": "AttributeError",
     "evalue": "module 'geodatasets' has no attribute 'available'",
     "output_type": "error",
     "traceback": [
      "\u001b[0;31m---------------------------------------------------------------------------\u001b[0m",
      "\u001b[0;31mAttributeError\u001b[0m                            Traceback (most recent call last)",
      "Cell \u001b[0;32mIn[29], line 18\u001b[0m\n\u001b[1;32m     15\u001b[0m \u001b[38;5;28;01mimport\u001b[39;00m \u001b[38;5;21;01mgeodatasets\u001b[39;00m\n\u001b[1;32m     17\u001b[0m \u001b[38;5;66;03m# Check for available\u001b[39;00m\n\u001b[0;32m---> 18\u001b[0m \u001b[38;5;28mprint\u001b[39m(geodatasets\u001b[38;5;241m.\u001b[39mavailable) \u001b[38;5;66;03m# To show the valid dataset key\u001b[39;00m\n\u001b[1;32m     20\u001b[0m \u001b[38;5;66;03m# Load world map data\u001b[39;00m\n\u001b[1;32m     21\u001b[0m world \u001b[38;5;241m=\u001b[39m gpd\u001b[38;5;241m.\u001b[39mread_file(geodatasets\u001b[38;5;241m.\u001b[39mget_path(\u001b[38;5;124m'\u001b[39m\u001b[38;5;124mnaturalearth.lowres\u001b[39m\u001b[38;5;124m'\u001b[39m))\n",
      "\u001b[0;31mAttributeError\u001b[0m: module 'geodatasets' has no attribute 'available'"
     ]
    }
   ],
   "source": [
    "# Create geographic visializations (geo graphs) in Python\n",
    "# 1. Geopandas - For handlling geospatial data\n",
    "# 2. Follium - For interactive maps\n",
    "# 3. Matplotlib - For static maps and customization\n",
    "# 4. Plotly - For interactive visualizations\n",
    "# 5. Contextily - For adding basemaps to plots\n",
    "# 6. Cartopy - For more advanced cartographic projections\n",
    "\n",
    "\n",
    "# Basic Example: Creaing a world map using GeoPandas\n",
    "# Import necessary libraries\n",
    "import geopandas as gpd\n",
    "import matplotlib.pyplot as plt\n",
    "import contextily as ctx\n",
    "import geodatasets\n",
    "\n",
    "# Check for available\n",
    "print(geodatasets.available) # To show the valid dataset key\n",
    "\n",
    "# Load world map data\n",
    "world = gpd.read_file(geodatasets.get_path('naturalearth.lowres'))\n",
    "\n",
    "# Create a simple plot\n",
    "fig, ax = plt.subplots(figsize=(12, 8))\n",
    "\n",
    "# Plot countries with different colors based on continent\n",
    "world.plot(column='continent', \n",
    "           ax=ax,\n",
    "           legend=True,\n",
    "           legend_kwds={'loc': 'lower left', 'title': 'Continents'},\n",
    "           cmap='tab10')\n",
    "\n",
    "# Add title and remove axis\n",
    "ax.set_title('World Map by Continent', fontsize=15)\n",
    "ax.set_axis_off()\n",
    "\n",
    "# Display the map\n",
    "plt.tight_layout()\n",
    "plt.show()\n"
   ]
  },
  {
   "cell_type": "code",
   "execution_count": null,
   "id": "dade749c-950f-420a-ab8a-82128821e339",
   "metadata": {},
   "outputs": [],
   "source": []
  }
 ],
 "metadata": {
  "kernelspec": {
   "display_name": "Python [conda env:base] *",
   "language": "python",
   "name": "conda-base-py"
  },
  "language_info": {
   "codemirror_mode": {
    "name": "ipython",
    "version": 3
   },
   "file_extension": ".py",
   "mimetype": "text/x-python",
   "name": "python",
   "nbconvert_exporter": "python",
   "pygments_lexer": "ipython3",
   "version": "3.12.7"
  }
 },
 "nbformat": 4,
 "nbformat_minor": 5
}
